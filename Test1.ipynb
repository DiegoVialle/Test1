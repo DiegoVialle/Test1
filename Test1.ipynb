{
  "nbformat": 4,
  "nbformat_minor": 0,
  "metadata": {
    "colab": {
      "name": "Test1.ipynb",
      "provenance": [],
      "authorship_tag": "ABX9TyNRWD8SL6qGlhaliL+2pWwr",
      "include_colab_link": true
    },
    "kernelspec": {
      "name": "python3",
      "display_name": "Python 3"
    }
  },
  "cells": [
    {
      "cell_type": "markdown",
      "metadata": {
        "id": "view-in-github",
        "colab_type": "text"
      },
      "source": [
        "<a href=\"https://colab.research.google.com/github/DiegoVialle/Test1/blob/master/Test1.ipynb\" target=\"_parent\"><img src=\"https://colab.research.google.com/assets/colab-badge.svg\" alt=\"Open In Colab\"/></a>"
      ]
    },
    {
      "cell_type": "code",
      "metadata": {
        "id": "YwEsBffksvbn",
        "colab_type": "code",
        "colab": {}
      },
      "source": [
        "import pandas\n",
        "df = pandas.read_json('source_file_2.json')\n",
        "df = df.explode('managers')\n",
        "df = df.explode('watchers')\n",
        "df.sort_values(by='priority',inplace=True)\n",
        "df.reset_index(drop=True,inplace=True)\n",
        "managers = df.groupby('managers').apply(lambda x:list(x['name']))\n",
        "managers = df.drop_duplicates(subset=['managers','name']).groupby('managers').apply(lambda x:list(x['name']))\n",
        "watchers = df.groupby('watchers').apply(lambda x:list(x['name']))\n",
        "watchers = df.drop_duplicates(subset=['watchers','name']).groupby('watchers').apply(lambda x:list(x['name']))\n",
        "managers.to_json('managers.json')\n",
        "watchers.to_json('watchers.json')"
      ],
      "execution_count": 0,
      "outputs": []
    },
    {
      "cell_type": "code",
      "metadata": {
        "id": "OYLcfmsbtEWE",
        "colab_type": "code",
        "colab": {
          "base_uri": "https://localhost:8080/",
          "height": 187
        },
        "outputId": "a1f91114-96d2-4e34-9e24-7f9846fd8c8f"
      },
      "source": [
        "managers"
      ],
      "execution_count": 11,
      "outputs": [
        {
          "output_type": "execute_result",
          "data": {
            "text/plain": [
              "managers\n",
              "ariel                                 [[BG-CLUB-SITE] frontend]\n",
              "arturc                  [unity render diff passport text artur]\n",
              "csaftoiu      [sportsparsers - pinnacle API, [OCR] tesseract...\n",
              "luanda                                            [Annotations]\n",
              "merlin        [[EXECUTIVE] Merlin, [Web] pm-site, [ID-VERIFY...\n",
              "morris        [sportsparsers - 22bet, sportsparsers - esport...\n",
              "victor                               [morris bg data gathering]\n",
              "victor-mgr    [mateus silva bg deep checkers, Android Camera...\n",
              "dtype: object"
            ]
          },
          "metadata": {
            "tags": []
          },
          "execution_count": 11
        }
      ]
    },
    {
      "cell_type": "code",
      "metadata": {
        "id": "bGh7VwxFtFm6",
        "colab_type": "code",
        "colab": {
          "base_uri": "https://localhost:8080/",
          "height": 187
        },
        "outputId": "82ca7d45-7b2f-43a9-f144-22d98905be65"
      },
      "source": [
        "watchers"
      ],
      "execution_count": 9,
      "outputs": [
        {
          "output_type": "execute_result",
          "data": {
            "text/plain": [
              "watchers\n",
              "Alex                             [sportsparsers - pinnacle API]\n",
              "arturc                           [[OCR] tesseract MRZ reading ]\n",
              "csaftoiu      [Annotations, [EXECUTIVE] Merlin, sportsparser...\n",
              "jpfarias      [[EXECUTIVE] Merlin, [Web] pm-site, [ID-VERIFY...\n",
              "merlin        [Annotations, [EXECUTIVE] Merlin, sportsparser...\n",
              "morris        [[EXECUTIVE] Merlin, morris bg data gathering,...\n",
              "victor                                [Annotations, Deepgammon]\n",
              "victor-mgr                        [chess board finder eliaquim]\n",
              "dtype: object"
            ]
          },
          "metadata": {
            "tags": []
          },
          "execution_count": 9
        }
      ]
    },
    {
      "cell_type": "code",
      "metadata": {
        "id": "LEfX53R-wenq",
        "colab_type": "code",
        "colab": {}
      },
      "source": [
        ""
      ],
      "execution_count": 0,
      "outputs": []
    }
  ]
}